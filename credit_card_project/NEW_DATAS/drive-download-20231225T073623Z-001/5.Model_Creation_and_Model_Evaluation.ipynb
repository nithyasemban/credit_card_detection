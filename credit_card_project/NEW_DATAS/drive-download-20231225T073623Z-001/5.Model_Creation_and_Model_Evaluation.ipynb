{
 "cells": [
  {
   "cell_type": "code",
   "execution_count": 1,
   "id": "d24b6c8a-6790-42dc-9d79-837e18acc188",
   "metadata": {},
   "outputs": [],
   "source": [
    "import pandas as pd\n",
    "import seaborn as sns\n",
    "import matplotlib.pyplot as plt\n",
    "import numpy as np"
   ]
  },
  {
   "cell_type": "code",
   "execution_count": 2,
   "id": "8970668d",
   "metadata": {},
   "outputs": [],
   "source": [
    "import warnings\n",
    "warnings.filterwarnings('ignore')"
   ]
  },
  {
   "cell_type": "code",
   "execution_count": 3,
   "id": "f511b56c-bf89-4d91-952f-b91e04e862d6",
   "metadata": {},
   "outputs": [
    {
     "data": {
      "text/html": [
       "<div>\n",
       "<style scoped>\n",
       "    .dataframe tbody tr th:only-of-type {\n",
       "        vertical-align: middle;\n",
       "    }\n",
       "\n",
       "    .dataframe tbody tr th {\n",
       "        vertical-align: top;\n",
       "    }\n",
       "\n",
       "    .dataframe thead th {\n",
       "        text-align: right;\n",
       "    }\n",
       "</style>\n",
       "<table border=\"1\" class=\"dataframe\">\n",
       "  <thead>\n",
       "    <tr style=\"text-align: right;\">\n",
       "      <th></th>\n",
       "      <th>User</th>\n",
       "      <th>Card</th>\n",
       "      <th>Year</th>\n",
       "      <th>Month</th>\n",
       "      <th>Day</th>\n",
       "      <th>Amount</th>\n",
       "      <th>UseChip</th>\n",
       "      <th>MerchantName</th>\n",
       "      <th>MerchantCity</th>\n",
       "      <th>MerchantCountry</th>\n",
       "      <th>Zip</th>\n",
       "      <th>MCC</th>\n",
       "      <th>target</th>\n",
       "    </tr>\n",
       "  </thead>\n",
       "  <tbody>\n",
       "    <tr>\n",
       "      <th>0</th>\n",
       "      <td>1750.0</td>\n",
       "      <td>0.0</td>\n",
       "      <td>2015.0</td>\n",
       "      <td>7.0</td>\n",
       "      <td>16.0</td>\n",
       "      <td>$21.42</td>\n",
       "      <td>Swipe Transaction</td>\n",
       "      <td>Lukass Theaters</td>\n",
       "      <td>Tiffin</td>\n",
       "      <td>USA</td>\n",
       "      <td>44883.000000</td>\n",
       "      <td>7832.0</td>\n",
       "      <td>No</td>\n",
       "    </tr>\n",
       "    <tr>\n",
       "      <th>1</th>\n",
       "      <td>1959.0</td>\n",
       "      <td>1.0</td>\n",
       "      <td>2016.0</td>\n",
       "      <td>5.0</td>\n",
       "      <td>5.0</td>\n",
       "      <td>$76.99</td>\n",
       "      <td>Chip Transaction</td>\n",
       "      <td>Jadens Wholesale</td>\n",
       "      <td>Lancaster</td>\n",
       "      <td>USA</td>\n",
       "      <td>93535.000000</td>\n",
       "      <td>5300.0</td>\n",
       "      <td>No</td>\n",
       "    </tr>\n",
       "    <tr>\n",
       "      <th>2</th>\n",
       "      <td>182.0</td>\n",
       "      <td>2.0</td>\n",
       "      <td>2012.0</td>\n",
       "      <td>11.0</td>\n",
       "      <td>23.0</td>\n",
       "      <td>$2.19</td>\n",
       "      <td>Swipe Transaction</td>\n",
       "      <td>Supermarket Chain 3</td>\n",
       "      <td>Houston</td>\n",
       "      <td>USA</td>\n",
       "      <td>77096.000000</td>\n",
       "      <td>5411.0</td>\n",
       "      <td>No</td>\n",
       "    </tr>\n",
       "    <tr>\n",
       "      <th>3</th>\n",
       "      <td>458.0</td>\n",
       "      <td>2.0</td>\n",
       "      <td>2019.0</td>\n",
       "      <td>5.0</td>\n",
       "      <td>15.0</td>\n",
       "      <td>$45.73</td>\n",
       "      <td>Chip Transaction</td>\n",
       "      <td>Supermarket Chain 3</td>\n",
       "      <td>Flint</td>\n",
       "      <td>USA</td>\n",
       "      <td>48532.000000</td>\n",
       "      <td>5411.0</td>\n",
       "      <td>No</td>\n",
       "    </tr>\n",
       "    <tr>\n",
       "      <th>4</th>\n",
       "      <td>1949.0</td>\n",
       "      <td>0.0</td>\n",
       "      <td>2018.0</td>\n",
       "      <td>1.0</td>\n",
       "      <td>4.0</td>\n",
       "      <td>$1.25</td>\n",
       "      <td>Chip Transaction</td>\n",
       "      <td>Convenience Store Chain 1</td>\n",
       "      <td>Brooklyn</td>\n",
       "      <td>USA</td>\n",
       "      <td>11213.000000</td>\n",
       "      <td>5499.0</td>\n",
       "      <td>No</td>\n",
       "    </tr>\n",
       "    <tr>\n",
       "      <th>...</th>\n",
       "      <td>...</td>\n",
       "      <td>...</td>\n",
       "      <td>...</td>\n",
       "      <td>...</td>\n",
       "      <td>...</td>\n",
       "      <td>...</td>\n",
       "      <td>...</td>\n",
       "      <td>...</td>\n",
       "      <td>...</td>\n",
       "      <td>...</td>\n",
       "      <td>...</td>\n",
       "      <td>...</td>\n",
       "      <td>...</td>\n",
       "    </tr>\n",
       "    <tr>\n",
       "      <th>1739</th>\n",
       "      <td>1998.0</td>\n",
       "      <td>2.0</td>\n",
       "      <td>2013.0</td>\n",
       "      <td>1.0</td>\n",
       "      <td>26.0</td>\n",
       "      <td>$193.24</td>\n",
       "      <td>Swipe Transaction</td>\n",
       "      <td>Neufelder Tegucigalpa Wine and Liquor</td>\n",
       "      <td>Tegucigalpa</td>\n",
       "      <td>Honduras</td>\n",
       "      <td>51694.676895</td>\n",
       "      <td>5921.0</td>\n",
       "      <td>Yes</td>\n",
       "    </tr>\n",
       "    <tr>\n",
       "      <th>1740</th>\n",
       "      <td>1999.0</td>\n",
       "      <td>3.0</td>\n",
       "      <td>2020.0</td>\n",
       "      <td>1.0</td>\n",
       "      <td>26.0</td>\n",
       "      <td>$221.96</td>\n",
       "      <td>Swipe Transaction</td>\n",
       "      <td>Abrils Wholesale</td>\n",
       "      <td>Saint Louis</td>\n",
       "      <td>USA</td>\n",
       "      <td>63146.000000</td>\n",
       "      <td>5300.0</td>\n",
       "      <td>Yes</td>\n",
       "    </tr>\n",
       "    <tr>\n",
       "      <th>1741</th>\n",
       "      <td>1999.0</td>\n",
       "      <td>3.0</td>\n",
       "      <td>2020.0</td>\n",
       "      <td>1.0</td>\n",
       "      <td>26.0</td>\n",
       "      <td>$26.69</td>\n",
       "      <td>Swipe Transaction</td>\n",
       "      <td>Abrils Wholesale</td>\n",
       "      <td>Saint Louis</td>\n",
       "      <td>USA</td>\n",
       "      <td>63146.000000</td>\n",
       "      <td>5300.0</td>\n",
       "      <td>Yes</td>\n",
       "    </tr>\n",
       "    <tr>\n",
       "      <th>1742</th>\n",
       "      <td>1999.0</td>\n",
       "      <td>3.0</td>\n",
       "      <td>2020.0</td>\n",
       "      <td>1.0</td>\n",
       "      <td>26.0</td>\n",
       "      <td>$103.95</td>\n",
       "      <td>Chip Transaction</td>\n",
       "      <td>Cox Saint Louis Restaurant</td>\n",
       "      <td>Saint Louis</td>\n",
       "      <td>USA</td>\n",
       "      <td>63146.000000</td>\n",
       "      <td>5812.0</td>\n",
       "      <td>Yes</td>\n",
       "    </tr>\n",
       "    <tr>\n",
       "      <th>1743</th>\n",
       "      <td>1999.0</td>\n",
       "      <td>3.0</td>\n",
       "      <td>2020.0</td>\n",
       "      <td>1.0</td>\n",
       "      <td>26.0</td>\n",
       "      <td>$0.24</td>\n",
       "      <td>Online Transaction</td>\n",
       "      <td>Digital Content Company 2</td>\n",
       "      <td>San Jose</td>\n",
       "      <td>USA</td>\n",
       "      <td>51694.676895</td>\n",
       "      <td>5815.0</td>\n",
       "      <td>Yes</td>\n",
       "    </tr>\n",
       "  </tbody>\n",
       "</table>\n",
       "<p>1744 rows × 13 columns</p>\n",
       "</div>"
      ],
      "text/plain": [
       "        User  Card    Year  Month   Day   Amount             UseChip  \\\n",
       "0     1750.0   0.0  2015.0    7.0  16.0   $21.42   Swipe Transaction   \n",
       "1     1959.0   1.0  2016.0    5.0   5.0   $76.99    Chip Transaction   \n",
       "2      182.0   2.0  2012.0   11.0  23.0    $2.19   Swipe Transaction   \n",
       "3      458.0   2.0  2019.0    5.0  15.0   $45.73    Chip Transaction   \n",
       "4     1949.0   0.0  2018.0    1.0   4.0    $1.25    Chip Transaction   \n",
       "...      ...   ...     ...    ...   ...      ...                 ...   \n",
       "1739  1998.0   2.0  2013.0    1.0  26.0  $193.24   Swipe Transaction   \n",
       "1740  1999.0   3.0  2020.0    1.0  26.0  $221.96   Swipe Transaction   \n",
       "1741  1999.0   3.0  2020.0    1.0  26.0   $26.69   Swipe Transaction   \n",
       "1742  1999.0   3.0  2020.0    1.0  26.0  $103.95    Chip Transaction   \n",
       "1743  1999.0   3.0  2020.0    1.0  26.0    $0.24  Online Transaction   \n",
       "\n",
       "                               MerchantName MerchantCity MerchantCountry  \\\n",
       "0                           Lukass Theaters       Tiffin             USA   \n",
       "1                          Jadens Wholesale    Lancaster             USA   \n",
       "2                       Supermarket Chain 3      Houston             USA   \n",
       "3                       Supermarket Chain 3        Flint             USA   \n",
       "4                 Convenience Store Chain 1     Brooklyn             USA   \n",
       "...                                     ...          ...             ...   \n",
       "1739  Neufelder Tegucigalpa Wine and Liquor  Tegucigalpa        Honduras   \n",
       "1740                       Abrils Wholesale  Saint Louis             USA   \n",
       "1741                       Abrils Wholesale  Saint Louis             USA   \n",
       "1742             Cox Saint Louis Restaurant  Saint Louis             USA   \n",
       "1743              Digital Content Company 2    San Jose              USA   \n",
       "\n",
       "               Zip     MCC target  \n",
       "0     44883.000000  7832.0     No  \n",
       "1     93535.000000  5300.0     No  \n",
       "2     77096.000000  5411.0     No  \n",
       "3     48532.000000  5411.0     No  \n",
       "4     11213.000000  5499.0     No  \n",
       "...            ...     ...    ...  \n",
       "1739  51694.676895  5921.0    Yes  \n",
       "1740  63146.000000  5300.0    Yes  \n",
       "1741  63146.000000  5300.0    Yes  \n",
       "1742  63146.000000  5812.0    Yes  \n",
       "1743  51694.676895  5815.0    Yes  \n",
       "\n",
       "[1744 rows x 13 columns]"
      ]
     },
     "execution_count": 3,
     "metadata": {},
     "output_type": "execute_result"
    }
   ],
   "source": [
    "df=pd.read_csv(\"undersampled_data.csv\")\n",
    "df"
   ]
  },
  {
   "cell_type": "code",
   "execution_count": 4,
   "id": "84c3c30b-2333-4e33-9050-3a182b0ef773",
   "metadata": {},
   "outputs": [
    {
     "data": {
      "text/plain": [
       "target\n",
       "No     872\n",
       "Yes    872\n",
       "Name: count, dtype: int64"
      ]
     },
     "execution_count": 4,
     "metadata": {},
     "output_type": "execute_result"
    }
   ],
   "source": [
    "df[\"target\"].value_counts()"
   ]
  },
  {
   "cell_type": "code",
   "execution_count": 5,
   "id": "637536cb-c9e9-46a5-8a87-ba9bfce76046",
   "metadata": {},
   "outputs": [
    {
     "data": {
      "text/plain": [
       "User               0\n",
       "Card               0\n",
       "Year               0\n",
       "Month              0\n",
       "Day                0\n",
       "Amount             0\n",
       "UseChip            0\n",
       "MerchantName       0\n",
       "MerchantCity       0\n",
       "MerchantCountry    0\n",
       "Zip                0\n",
       "MCC                0\n",
       "target             0\n",
       "dtype: int64"
      ]
     },
     "execution_count": 5,
     "metadata": {},
     "output_type": "execute_result"
    }
   ],
   "source": [
    "df.isnull().sum()"
   ]
  },
  {
   "cell_type": "code",
   "execution_count": 6,
   "id": "04e7dc0e-b41c-42cc-9b46-9def524cd684",
   "metadata": {},
   "outputs": [],
   "source": [
    "df['Amount'] = df['Amount'].replace({'\\$': '', ',': ''}, regex=True).astype(float)"
   ]
  },
  {
   "cell_type": "code",
   "execution_count": 7,
   "id": "91c2b1ca-501a-4a9f-9f2c-419686d50e65",
   "metadata": {},
   "outputs": [],
   "source": [
    "from sklearn.preprocessing import LabelEncoder\n",
    "\n",
    "le = LabelEncoder()\n",
    "col = ['UseChip', 'MerchantName', 'MerchantCity', 'MerchantCountry','target']\n",
    "for i in col:\n",
    "    df[i] = le.fit_transform(df[i]).astype(int)"
   ]
  },
  {
   "cell_type": "code",
   "execution_count": 8,
   "id": "ba8734d8-4102-458a-8bd5-507e2cd2c57f",
   "metadata": {},
   "outputs": [
    {
     "data": {
      "text/html": [
       "<div>\n",
       "<style scoped>\n",
       "    .dataframe tbody tr th:only-of-type {\n",
       "        vertical-align: middle;\n",
       "    }\n",
       "\n",
       "    .dataframe tbody tr th {\n",
       "        vertical-align: top;\n",
       "    }\n",
       "\n",
       "    .dataframe thead th {\n",
       "        text-align: right;\n",
       "    }\n",
       "</style>\n",
       "<table border=\"1\" class=\"dataframe\">\n",
       "  <thead>\n",
       "    <tr style=\"text-align: right;\">\n",
       "      <th></th>\n",
       "      <th>Year</th>\n",
       "      <th>Month</th>\n",
       "      <th>UseChip</th>\n",
       "      <th>Amount</th>\n",
       "      <th>MerchantName</th>\n",
       "      <th>MerchantCity</th>\n",
       "      <th>MerchantCountry</th>\n",
       "      <th>MCC</th>\n",
       "    </tr>\n",
       "  </thead>\n",
       "  <tbody>\n",
       "    <tr>\n",
       "      <th>0</th>\n",
       "      <td>2015.0</td>\n",
       "      <td>7.0</td>\n",
       "      <td>2</td>\n",
       "      <td>21.42</td>\n",
       "      <td>383</td>\n",
       "      <td>522</td>\n",
       "      <td>15</td>\n",
       "      <td>7832.0</td>\n",
       "    </tr>\n",
       "    <tr>\n",
       "      <th>1</th>\n",
       "      <td>2016.0</td>\n",
       "      <td>5.0</td>\n",
       "      <td>0</td>\n",
       "      <td>76.99</td>\n",
       "      <td>318</td>\n",
       "      <td>270</td>\n",
       "      <td>15</td>\n",
       "      <td>5300.0</td>\n",
       "    </tr>\n",
       "    <tr>\n",
       "      <th>2</th>\n",
       "      <td>2012.0</td>\n",
       "      <td>11.0</td>\n",
       "      <td>2</td>\n",
       "      <td>2.19</td>\n",
       "      <td>529</td>\n",
       "      <td>230</td>\n",
       "      <td>15</td>\n",
       "      <td>5411.0</td>\n",
       "    </tr>\n",
       "    <tr>\n",
       "      <th>3</th>\n",
       "      <td>2019.0</td>\n",
       "      <td>5.0</td>\n",
       "      <td>0</td>\n",
       "      <td>45.73</td>\n",
       "      <td>529</td>\n",
       "      <td>171</td>\n",
       "      <td>15</td>\n",
       "      <td>5411.0</td>\n",
       "    </tr>\n",
       "    <tr>\n",
       "      <th>4</th>\n",
       "      <td>2018.0</td>\n",
       "      <td>1.0</td>\n",
       "      <td>0</td>\n",
       "      <td>1.25</td>\n",
       "      <td>153</td>\n",
       "      <td>68</td>\n",
       "      <td>15</td>\n",
       "      <td>5499.0</td>\n",
       "    </tr>\n",
       "    <tr>\n",
       "      <th>...</th>\n",
       "      <td>...</td>\n",
       "      <td>...</td>\n",
       "      <td>...</td>\n",
       "      <td>...</td>\n",
       "      <td>...</td>\n",
       "      <td>...</td>\n",
       "      <td>...</td>\n",
       "      <td>...</td>\n",
       "    </tr>\n",
       "    <tr>\n",
       "      <th>1739</th>\n",
       "      <td>2013.0</td>\n",
       "      <td>1.0</td>\n",
       "      <td>2</td>\n",
       "      <td>193.24</td>\n",
       "      <td>422</td>\n",
       "      <td>520</td>\n",
       "      <td>6</td>\n",
       "      <td>5921.0</td>\n",
       "    </tr>\n",
       "    <tr>\n",
       "      <th>1740</th>\n",
       "      <td>2020.0</td>\n",
       "      <td>1.0</td>\n",
       "      <td>2</td>\n",
       "      <td>221.96</td>\n",
       "      <td>10</td>\n",
       "      <td>470</td>\n",
       "      <td>15</td>\n",
       "      <td>5300.0</td>\n",
       "    </tr>\n",
       "    <tr>\n",
       "      <th>1741</th>\n",
       "      <td>2020.0</td>\n",
       "      <td>1.0</td>\n",
       "      <td>2</td>\n",
       "      <td>26.69</td>\n",
       "      <td>10</td>\n",
       "      <td>470</td>\n",
       "      <td>15</td>\n",
       "      <td>5300.0</td>\n",
       "    </tr>\n",
       "    <tr>\n",
       "      <th>1742</th>\n",
       "      <td>2020.0</td>\n",
       "      <td>1.0</td>\n",
       "      <td>0</td>\n",
       "      <td>103.95</td>\n",
       "      <td>160</td>\n",
       "      <td>470</td>\n",
       "      <td>15</td>\n",
       "      <td>5812.0</td>\n",
       "    </tr>\n",
       "    <tr>\n",
       "      <th>1743</th>\n",
       "      <td>2020.0</td>\n",
       "      <td>1.0</td>\n",
       "      <td>1</td>\n",
       "      <td>0.24</td>\n",
       "      <td>193</td>\n",
       "      <td>479</td>\n",
       "      <td>15</td>\n",
       "      <td>5815.0</td>\n",
       "    </tr>\n",
       "  </tbody>\n",
       "</table>\n",
       "<p>1744 rows × 8 columns</p>\n",
       "</div>"
      ],
      "text/plain": [
       "        Year  Month  UseChip  Amount  MerchantName  MerchantCity  \\\n",
       "0     2015.0    7.0        2   21.42           383           522   \n",
       "1     2016.0    5.0        0   76.99           318           270   \n",
       "2     2012.0   11.0        2    2.19           529           230   \n",
       "3     2019.0    5.0        0   45.73           529           171   \n",
       "4     2018.0    1.0        0    1.25           153            68   \n",
       "...      ...    ...      ...     ...           ...           ...   \n",
       "1739  2013.0    1.0        2  193.24           422           520   \n",
       "1740  2020.0    1.0        2  221.96            10           470   \n",
       "1741  2020.0    1.0        2   26.69            10           470   \n",
       "1742  2020.0    1.0        0  103.95           160           470   \n",
       "1743  2020.0    1.0        1    0.24           193           479   \n",
       "\n",
       "      MerchantCountry     MCC  \n",
       "0                  15  7832.0  \n",
       "1                  15  5300.0  \n",
       "2                  15  5411.0  \n",
       "3                  15  5411.0  \n",
       "4                  15  5499.0  \n",
       "...               ...     ...  \n",
       "1739                6  5921.0  \n",
       "1740               15  5300.0  \n",
       "1741               15  5300.0  \n",
       "1742               15  5812.0  \n",
       "1743               15  5815.0  \n",
       "\n",
       "[1744 rows x 8 columns]"
      ]
     },
     "execution_count": 8,
     "metadata": {},
     "output_type": "execute_result"
    }
   ],
   "source": [
    "independent=df[['Year', 'Month', 'UseChip','Amount',\n",
    "       'MerchantName', 'MerchantCity', 'MerchantCountry','MCC']]\n",
    "\n",
    "dependent=df[['target']]\n",
    "independent"
   ]
  },
  {
   "cell_type": "code",
   "execution_count": 9,
   "id": "5e9e8766-136f-4bce-a2e2-713d538c7c2e",
   "metadata": {},
   "outputs": [],
   "source": [
    "#split into training set and test\n",
    "from sklearn.model_selection import train_test_split\n",
    "X_train,X_test,Y_train,Y_test=train_test_split(independent,dependent,test_size=1/3,random_state=42)"
   ]
  },
  {
   "cell_type": "code",
   "execution_count": 10,
   "id": "4fef2349",
   "metadata": {},
   "outputs": [
    {
     "data": {
      "text/plain": [
       "(582, 8)"
      ]
     },
     "execution_count": 10,
     "metadata": {},
     "output_type": "execute_result"
    }
   ],
   "source": [
    "X_test.shape"
   ]
  },
  {
   "cell_type": "code",
   "execution_count": 11,
   "id": "165b7e90-9e13-408f-bbfb-7e4244a9b5c7",
   "metadata": {},
   "outputs": [],
   "source": [
    "from sklearn.ensemble import RandomForestClassifier\n",
    "classifier=RandomForestClassifier(n_estimators= 100, criterion=\"entropy\")\n",
    "classifier=classifier.fit(X_train,Y_train.values.ravel())"
   ]
  },
  {
   "cell_type": "code",
   "execution_count": 12,
   "id": "59e29991-513d-4616-a482-6998d7260ef2",
   "metadata": {},
   "outputs": [
    {
     "data": {
      "text/plain": [
       "array([0, 0, 0, 0, 0, 0, 0, 0, 0, 0, 1, 0, 1, 1, 1, 0, 0, 1, 0, 1, 1, 0,\n",
       "       0, 1, 1, 1, 0, 1, 1, 0, 1, 0, 0, 1, 1, 1, 1, 1, 1, 0, 1, 0, 1, 1,\n",
       "       1, 1, 1, 0, 1, 0, 1, 1, 0, 0, 0, 0, 0, 0, 0, 1, 0, 0, 1, 0, 0, 1,\n",
       "       1, 0, 0, 0, 1, 0, 0, 0, 0, 1, 0, 1, 1, 0, 0, 0, 0, 1, 0, 0, 1, 1,\n",
       "       1, 1, 1, 0, 0, 1, 1, 0, 1, 0, 1, 0, 0, 0, 0, 0, 0, 0, 1, 1, 0, 1,\n",
       "       0, 1, 0, 1, 1, 0, 0, 1, 1, 1, 1, 1, 0, 0, 0, 0, 1, 1, 0, 0, 1, 0,\n",
       "       1, 0, 0, 1, 0, 1, 0, 0, 0, 1, 0, 1, 0, 0, 1, 1, 0, 1, 0, 1, 0, 1,\n",
       "       1, 1, 1, 0, 1, 0, 1, 1, 1, 1, 0, 0, 0, 1, 0, 0, 1, 1, 1, 1, 0, 1,\n",
       "       0, 0, 0, 1, 0, 1, 0, 1, 0, 1, 1, 0, 0, 1, 0, 0, 0, 1, 1, 0, 0, 0,\n",
       "       0, 0, 0, 0, 1, 1, 0, 1, 1, 0, 0, 1, 1, 0, 1, 0, 0, 0, 1, 1, 0, 1,\n",
       "       1, 1, 0, 1, 0, 1, 1, 1, 0, 1, 0, 1, 1, 0, 0, 1, 1, 1, 1, 1, 0, 0,\n",
       "       0, 0, 1, 1, 0, 0, 0, 1, 0, 0, 0, 1, 0, 0, 1, 0, 0, 0, 0, 1, 1, 0,\n",
       "       0, 1, 0, 1, 1, 0, 0, 0, 1, 0, 1, 1, 0, 1, 1, 0, 0, 0, 0, 0, 1, 0,\n",
       "       0, 1, 1, 0, 0, 1, 1, 1, 0, 1, 0, 1, 1, 0, 0, 0, 1, 0, 1, 1, 0, 0,\n",
       "       1, 0, 0, 1, 0, 1, 1, 0, 0, 1, 0, 0, 1, 0, 1, 0, 0, 0, 1, 0, 0, 0,\n",
       "       0, 1, 1, 0, 1, 0, 0, 0, 0, 1, 1, 0, 0, 1, 1, 1, 1, 0, 1, 1, 0, 0,\n",
       "       0, 1, 1, 0, 0, 0, 1, 0, 0, 0, 0, 1, 1, 0, 0, 0, 1, 0, 1, 1, 0, 1,\n",
       "       0, 1, 1, 0, 0, 1, 1, 0, 1, 1, 0, 0, 1, 1, 1, 1, 1, 1, 1, 0, 1, 0,\n",
       "       0, 0, 0, 1, 1, 0, 1, 0, 0, 0, 0, 0, 0, 0, 1, 0, 0, 1, 0, 1, 0, 1,\n",
       "       1, 1, 0, 1, 0, 1, 1, 1, 1, 1, 1, 0, 0, 0, 0, 1, 0, 0, 1, 1, 1, 0,\n",
       "       1, 1, 1, 1, 0, 1, 0, 0, 1, 0, 0, 0, 0, 1, 0, 1, 1, 1, 1, 0, 0, 1,\n",
       "       0, 1, 1, 0, 1, 0, 1, 1, 1, 1, 0, 0, 1, 0, 1, 1, 0, 0, 0, 1, 1, 1,\n",
       "       1, 0, 1, 0, 0, 1, 1, 1, 0, 1, 1, 0, 1, 1, 1, 0, 1, 1, 0, 0, 1, 1,\n",
       "       0, 0, 1, 1, 0, 1, 0, 0, 1, 0, 1, 1, 1, 0, 0, 1, 1, 0, 0, 1, 0, 1,\n",
       "       1, 1, 0, 1, 0, 0, 0, 1, 0, 0, 1, 1, 1, 1, 0, 0, 0, 0, 1, 1, 0, 0,\n",
       "       1, 0, 0, 0, 1, 1, 0, 0, 1, 0, 0, 1, 0, 1, 0, 1, 0, 0, 1, 0, 0, 1,\n",
       "       0, 0, 1, 0, 1, 0, 0, 0, 0, 0])"
      ]
     },
     "execution_count": 12,
     "metadata": {},
     "output_type": "execute_result"
    }
   ],
   "source": [
    "y_pred=classifier.predict(X_test)\n",
    "y_pred"
   ]
  },
  {
   "cell_type": "code",
   "execution_count": 13,
   "id": "3504b530-4e17-4df5-9af3-5863944fae7a",
   "metadata": {},
   "outputs": [],
   "source": [
    "from sklearn.metrics import confusion_matrix\n",
    "cm=confusion_matrix(Y_test.values.ravel(),y_pred)"
   ]
  },
  {
   "cell_type": "code",
   "execution_count": 14,
   "id": "106dc509-fbe0-476d-8e13-ac061b46f55f",
   "metadata": {},
   "outputs": [
    {
     "data": {
      "text/plain": [
       "array([[279,  11],\n",
       "       [ 27, 265]], dtype=int64)"
      ]
     },
     "execution_count": 14,
     "metadata": {},
     "output_type": "execute_result"
    }
   ],
   "source": [
    "cm"
   ]
  },
  {
   "cell_type": "code",
   "execution_count": 15,
   "id": "0992bb61-980f-4965-a747-e956ff4b9193",
   "metadata": {},
   "outputs": [],
   "source": [
    "from sklearn.metrics import classification_report\n",
    "clf_report=classification_report(Y_test.values.ravel(),y_pred)"
   ]
  },
  {
   "cell_type": "code",
   "execution_count": 16,
   "id": "377e2f24-4da8-4879-949a-4b825cd7e913",
   "metadata": {},
   "outputs": [
    {
     "name": "stdout",
     "output_type": "stream",
     "text": [
      "              precision    recall  f1-score   support\n",
      "\n",
      "           0       0.91      0.96      0.94       290\n",
      "           1       0.96      0.91      0.93       292\n",
      "\n",
      "    accuracy                           0.93       582\n",
      "   macro avg       0.94      0.93      0.93       582\n",
      "weighted avg       0.94      0.93      0.93       582\n",
      "\n"
     ]
    }
   ],
   "source": [
    "print(clf_report)"
   ]
  },
  {
   "cell_type": "code",
   "execution_count": 17,
   "id": "8e161f0e-3fdc-4227-b3a3-0e49eb179409",
   "metadata": {},
   "outputs": [
    {
     "name": "stdout",
     "output_type": "stream",
     "text": [
      "2013\n",
      "11\n",
      "2\n",
      "193\n",
      "283\n",
      "522\n",
      "15\n",
      "5300\n"
     ]
    }
   ],
   "source": [
    "\n",
    "\n",
    "Year=int(input())\n",
    "Month=int(input())\n",
    "UseChip=int(input())\n",
    "Amount=int(input())\n",
    "MerchantName=int(input())\n",
    "MerchantCity=int(input())\n",
    "MerchantCountry=int(input())\n",
    "mcc=int(input())"
   ]
  },
  {
   "cell_type": "code",
   "execution_count": 18,
   "id": "e62e01cd-e8dc-441c-9c3c-76c600671c70",
   "metadata": {},
   "outputs": [
    {
     "data": {
      "text/plain": [
       "array([1])"
      ]
     },
     "execution_count": 18,
     "metadata": {},
     "output_type": "execute_result"
    }
   ],
   "source": [
    "future_prediction=classifier.predict([[Year,Month,UseChip,Amount,MerchantName,MerchantCity,MerchantCountry,mcc]])\n",
    "future_prediction"
   ]
  },
  {
   "cell_type": "code",
   "execution_count": 19,
   "id": "16a3c32b-9e75-43ec-9c4b-b73d3bb1c722",
   "metadata": {},
   "outputs": [
    {
     "data": {
      "text/plain": [
       "['frauddetection1.pkl']"
      ]
     },
     "execution_count": 19,
     "metadata": {},
     "output_type": "execute_result"
    }
   ],
   "source": [
    "import joblib\n",
    "\n",
    "# Assuming you have already trained a model named 'model'\n",
    "# Save the model to a file\n",
    "joblib.dump(classifier, 'frauddetection1.pkl')\n"
   ]
  },
  {
   "cell_type": "code",
   "execution_count": 22,
   "id": "055c9692-6a60-4453-887a-0629d2d7434c",
   "metadata": {},
   "outputs": [
    {
     "data": {
      "text/plain": [
       "['frauddetection2.pkl']"
      ]
     },
     "execution_count": 22,
     "metadata": {},
     "output_type": "execute_result"
    }
   ],
   "source": [
    "import joblib\n",
    "\n",
    "# Load your model\n",
    "model = joblib.load('frauddetection1.pkl')\n",
    "\n",
    "# Save the model with the current scikit-learn version\n",
    "joblib.dump(model, 'frauddetection2.pkl')\n"
   ]
  },
  {
   "cell_type": "code",
   "execution_count": null,
   "id": "7d3fd82b-370f-48b2-879e-28223f786dc4",
   "metadata": {},
   "outputs": [],
   "source": []
  }
 ],
 "metadata": {
  "kernelspec": {
   "display_name": "Python 3 (ipykernel)",
   "language": "python",
   "name": "python3"
  },
  "language_info": {
   "codemirror_mode": {
    "name": "ipython",
    "version": 3
   },
   "file_extension": ".py",
   "mimetype": "text/x-python",
   "name": "python",
   "nbconvert_exporter": "python",
   "pygments_lexer": "ipython3",
   "version": "3.11.5"
  }
 },
 "nbformat": 4,
 "nbformat_minor": 5
}
