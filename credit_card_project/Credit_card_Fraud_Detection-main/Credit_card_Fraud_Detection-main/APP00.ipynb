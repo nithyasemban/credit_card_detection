{
 "cells": [
  {
   "cell_type": "code",
   "execution_count": 1,
   "id": "aaf13d18",
   "metadata": {},
   "outputs": [
    {
     "name": "stderr",
     "output_type": "stream",
     "text": [
      "WARNING:  You must pass the application as an import string to enable 'reload' or 'workers'.\n"
     ]
    },
    {
     "ename": "SystemExit",
     "evalue": "1",
     "output_type": "error",
     "traceback": [
      "An exception has occurred, use %tb to see the full traceback.\n",
      "\u001b[1;31mSystemExit\u001b[0m\u001b[1;31m:\u001b[0m 1\n"
     ]
    },
    {
     "name": "stderr",
     "output_type": "stream",
     "text": [
      "C:\\Users\\admin\\anaconda3\\Lib\\site-packages\\IPython\\core\\interactiveshell.py:3534: UserWarning: To exit: use 'exit', 'quit', or Ctrl-D.\n",
      "  warn(\"To exit: use 'exit', 'quit', or Ctrl-D.\", stacklevel=1)\n"
     ]
    }
   ],
   "source": [
    "import os\n",
    "import joblib\n",
    "from pydantic import BaseModel\n",
    "from fastapi import FastAPI\n",
    "import uvicorn\n",
    "\n",
    "# 1. Load the trained model\n",
    "model_path = os.path.join(r'C:\\Users\\admin\\Documents\\credit_card_project\\Credit_card_Fraud_Detection-main\\Credit_card_Fraud_Detection-main\\frauddetection_01.pkl')\n",
    "model = joblib.load(model_path)\n",
    "\n",
    "# 2. Define the input data schema using Pydantic BaseModel\n",
    "class InputData(BaseModel):\n",
    "    Year: int\n",
    "    Month: int\n",
    "    UseChip: int\n",
    "    Amount: int\n",
    "    MerchantName: int\n",
    "    MerchantCity: int\n",
    "    MerchantState: int\n",
    "    mcc: int\n",
    "    # Add the rest of the input features (feature4, feature5, ..., feature12)\n",
    "\n",
    "# 3. Create a FastAPI app\n",
    "app = FastAPI()\n",
    "\n",
    "# 4. Define the prediction route\n",
    "@app.post('/predict')\n",
    "def predict(data: InputData):\n",
    "    # Convert the input data to a dictionary\n",
    "    input_data = data.dict()\n",
    "\n",
    "    # Extract the input features from the dictionary\n",
    "    feature1 = input_data['Year']\n",
    "    feature2 = input_data['Month']\n",
    "    feature3 = input_data['UseChip']\n",
    "    feature4 = input_data['Amount']\n",
    "    feature5 = input_data['MerchantName']\n",
    "    feature6 = input_data['MerchantCity']\n",
    "    feature7 = input_data['MerchantState']\n",
    "    feature8 = input_data['mcc']\n",
    "    # Extract the rest of the input features (feature4, feature5, ..., feature12)\n",
    "\n",
    "    # Perform the prediction using the loaded model\n",
    "    prediction = model.predict([[feature1, feature2, feature3, feature4, feature5, feature6, feature7, feature8]])  # Replace ... with the rest of the features\n",
    "\n",
    "    # Convert the prediction to a string (or any other format you prefer)\n",
    "    result = \"Fraud\" if prediction[0] == 1 else \"Not a Fraud\"\n",
    "\n",
    "    return {\"prediction\": result}\n",
    "\n",
    "# 5. Run the API with uvicorn\n",
    "#    Will run on http://127.0.0.1:7000\n",
    "if __name__ == '__main__':\n",
    "    uvicorn.run(app, host='127.0.0.1', port=7000, reload=True)\n"
   ]
  },
  {
   "cell_type": "code",
   "execution_count": null,
   "id": "3a6b21f7",
   "metadata": {},
   "outputs": [],
   "source": []
  }
 ],
 "metadata": {
  "kernelspec": {
   "display_name": "Python 3 (ipykernel)",
   "language": "python",
   "name": "python3"
  },
  "language_info": {
   "codemirror_mode": {
    "name": "ipython",
    "version": 3
   },
   "file_extension": ".py",
   "mimetype": "text/x-python",
   "name": "python",
   "nbconvert_exporter": "python",
   "pygments_lexer": "ipython3",
   "version": "3.11.5"
  }
 },
 "nbformat": 4,
 "nbformat_minor": 5
}
